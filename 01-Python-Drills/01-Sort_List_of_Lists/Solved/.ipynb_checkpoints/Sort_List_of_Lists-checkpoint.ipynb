{
 "cells": [
  {
   "cell_type": "markdown",
   "metadata": {},
   "source": [
    "# Sorting Lists of Lists\n",
    "\n",
    "Sort the following list of lists by the grades in descending order. \n",
    "\n",
    "The desired output should be: <b>[['Kaylee', 99], ['Simon', 99], ['Zoe', 85], ['Malcolm', 80], ['Wash', 79]]</b>\n",
    "    \n",
    "### Hints: https://wiki.python.org/moin/HowTo/Sorting"
   ]
  },
  {
   "cell_type": "code",
   "execution_count": 20,
   "metadata": {},
   "outputs": [],
   "source": [
    "grades = [[\"Malcolm\", 80], [\"Zoe\", 85], [\"Kaylee\", 99], [\"Simon\", 99], [\"Wash\", 79]]"
   ]
  },
  {
   "cell_type": "code",
   "execution_count": 21,
   "metadata": {},
   "outputs": [
    {
     "data": {
      "text/plain": [
       "[['Kaylee', 99], ['Simon', 99], ['Zoe', 85], ['Malcolm', 80], ['Wash', 79]]"
      ]
     },
     "execution_count": 21,
     "metadata": {},
     "output_type": "execute_result"
    }
   ],
   "source": [
    "sorted_grades = []\n",
    "\n",
    "while grades:\n",
    "    max_item = grades[0]\n",
    "    for grade in grades: \n",
    "        if grade[1] > max_item[1]:\n",
    "            max_item = grade\n",
    "    sorted_grades.append(max_item)\n",
    "    grades.remove(max_item) \n",
    "sorted_grades"
   ]
  },
  {
   "cell_type": "code",
   "execution_count": 22,
   "metadata": {},
   "outputs": [],
   "source": [
    "grades = [[\"Malcolm\", 80], [\"Zoe\", 85], [\"Kaylee\", 99], [\"Simon\", 99], [\"Wash\", 79]]"
   ]
  },
  {
   "cell_type": "code",
   "execution_count": 23,
   "metadata": {},
   "outputs": [
    {
     "data": {
      "text/plain": [
       "[(80, ['Malcolm', 80]),\n",
       " (85, ['Zoe', 85]),\n",
       " (99, ['Kaylee', 99]),\n",
       " (99, ['Simon', 99]),\n",
       " (79, ['Wash', 79])]"
      ]
     },
     "execution_count": 23,
     "metadata": {},
     "output_type": "execute_result"
    }
   ],
   "source": [
    "\n",
    "decorated = [(grade[1], grade) for grade in grades]\n",
    "decorated"
   ]
  },
  {
   "cell_type": "code",
   "execution_count": 24,
   "metadata": {},
   "outputs": [
    {
     "data": {
      "text/plain": [
       "[(99, ['Simon', 99]),\n",
       " (99, ['Kaylee', 99]),\n",
       " (85, ['Zoe', 85]),\n",
       " (80, ['Malcolm', 80]),\n",
       " (79, ['Wash', 79])]"
      ]
     },
     "execution_count": 24,
     "metadata": {},
     "output_type": "execute_result"
    }
   ],
   "source": [
    "\n",
    "decorated.sort(reverse=True)\n",
    "decorated"
   ]
  },
  {
   "cell_type": "code",
   "execution_count": 25,
   "metadata": {},
   "outputs": [
    {
     "data": {
      "text/plain": [
       "[['Simon', 99], ['Kaylee', 99], ['Zoe', 85], ['Malcolm', 80], ['Wash', 79]]"
      ]
     },
     "execution_count": 25,
     "metadata": {},
     "output_type": "execute_result"
    }
   ],
   "source": [
    "\n",
    "sorted_grades = [grade for (grade_num, grade) in decorated]\n",
    "sorted_grades"
   ]
  },
  {
   "cell_type": "code",
   "execution_count": null,
   "metadata": {},
   "outputs": [],
   "source": []
  },
  {
   "cell_type": "code",
   "execution_count": null,
   "metadata": {},
   "outputs": [],
   "source": []
  }
 ],
 "metadata": {
  "kernelspec": {
   "display_name": "Python 3",
   "language": "python",
   "name": "python3"
  },
  "language_info": {
   "codemirror_mode": {
    "name": "ipython",
    "version": 3
   },
   "file_extension": ".py",
   "mimetype": "text/x-python",
   "name": "python",
   "nbconvert_exporter": "python",
   "pygments_lexer": "ipython3",
   "version": "3.8.3"
  },
  "varInspector": {
   "cols": {
    "lenName": 16,
    "lenType": 16,
    "lenVar": 40
   },
   "kernels_config": {
    "python": {
     "delete_cmd_postfix": "",
     "delete_cmd_prefix": "del ",
     "library": "var_list.py",
     "varRefreshCmd": "print(var_dic_list())"
    },
    "r": {
     "delete_cmd_postfix": ") ",
     "delete_cmd_prefix": "rm(",
     "library": "var_list.r",
     "varRefreshCmd": "cat(var_dic_list()) "
    }
   },
   "types_to_exclude": [
    "module",
    "function",
    "builtin_function_or_method",
    "instance",
    "_Feature"
   ],
   "window_display": false
  }
 },
 "nbformat": 4,
 "nbformat_minor": 2
}
